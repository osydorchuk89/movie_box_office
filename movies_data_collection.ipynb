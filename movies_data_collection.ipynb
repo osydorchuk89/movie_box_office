{
 "cells": [
  {
   "cell_type": "markdown",
   "id": "05285ce4",
   "metadata": {},
   "source": [
    "# Creating dataset of movies with highest revenue"
   ]
  },
  {
   "cell_type": "markdown",
   "id": "f67753ae",
   "metadata": {},
   "source": [
    "In this notebook, I will collect the data about 5,000 movies highest grossing movies, according to [TMDB website](https://www.themoviedb.org/). Using its API, I will:\n",
    "1. Get the ids of the movies with the highest revenue.\n",
    "2. Get information about the selected movies and combine it in a single dataframe."
   ]
  },
  {
   "cell_type": "code",
   "execution_count": 1,
   "id": "b1f840e0",
   "metadata": {
    "ExecuteTime": {
     "end_time": "2022-02-09T11:51:00.177169Z",
     "start_time": "2022-02-09T11:50:59.745922Z"
    }
   },
   "outputs": [],
   "source": [
    "#importing necessary libraries\n",
    "import numpy as np\n",
    "import pandas as pd\n",
    "import requests\n",
    "from tqdm import tqdm\n",
    "\n",
    "pd.set_option('display.max_columns', 50)"
   ]
  },
  {
   "cell_type": "code",
   "execution_count": 14,
   "id": "75ddeef1",
   "metadata": {
    "ExecuteTime": {
     "end_time": "2022-02-09T12:01:52.661006Z",
     "start_time": "2022-02-09T12:01:17.470635Z"
    }
   },
   "outputs": [
    {
     "name": "stderr",
     "output_type": "stream",
     "text": [
      "100%|████████████████████████████████████████████████████████████████████████████████| 250/250 [00:34<00:00,  7.17it/s]\n"
     ]
    }
   ],
   "source": [
    "#getting ids of 5,000 highest grossing movies in the database\n",
    "movies_list = []\n",
    "for page in range(1, 251):\n",
    "    url = f'https://api.themoviedb.org/3/discover/movie?api_key=c3eee2ef7290f6733d92e617c223b7c0&sort_by=revenue.desc&include_adult=false&include_video=false&page={page}'\n",
    "    r = requests.get(url)\n",
    "    movies_dict = r.json()\n",
    "    movies_list.append(movies_dict)\n",
    "\n",
    "movies_dfs = []\n",
    "for i in range(0, 250):\n",
    "    movies_df = pd.DataFrame(movies_list[i]['results'])\n",
    "    movies_dfs.append(movies_df)\n",
    "\n",
    "movies_combined = pd.concat(movies_dfs, ignore_index=True)\n",
    "movies_ids = movies_combined.id.values"
   ]
  },
  {
   "cell_type": "code",
   "execution_count": 15,
   "id": "a8243cc0",
   "metadata": {
    "ExecuteTime": {
     "end_time": "2022-02-09T12:14:34.746680Z",
     "start_time": "2022-02-09T12:01:55.635724Z"
    }
   },
   "outputs": [
    {
     "name": "stderr",
     "output_type": "stream",
     "text": [
      "100%|██████████████████████████████████████████████████████████████████████████████| 5000/5000 [12:39<00:00,  6.59it/s]\n"
     ]
    }
   ],
   "source": [
    "#getting info about movies with selected ids\n",
    "movies_dicts = []\n",
    "for movie_id in tqdm(movies_ids):\n",
    "    url = f'https://api.themoviedb.org/3/movie/{movie_id}?api_key=c3eee2ef7290f6733d92e617c223b7c0'\n",
    "    r = requests.get(url)\n",
    "    movies_dict = r.json()\n",
    "    movies_dicts.append(movies_dict)"
   ]
  },
  {
   "cell_type": "code",
   "execution_count": 16,
   "id": "15eba8db",
   "metadata": {
    "ExecuteTime": {
     "end_time": "2022-02-09T12:14:57.951004Z",
     "start_time": "2022-02-09T12:14:57.906484Z"
    },
    "scrolled": true
   },
   "outputs": [
    {
     "data": {
      "text/plain": [
       "(5000, 25)"
      ]
     },
     "execution_count": 16,
     "metadata": {},
     "output_type": "execute_result"
    }
   ],
   "source": [
    "#creating a dataframe with obtained info\n",
    "movies_details = pd.DataFrame(movies_dicts)\n",
    "movies_details.shape"
   ]
  },
  {
   "cell_type": "code",
   "execution_count": 17,
   "id": "af2af3e6",
   "metadata": {
    "ExecuteTime": {
     "end_time": "2022-02-09T12:28:29.220297Z",
     "start_time": "2022-02-09T12:15:00.952596Z"
    }
   },
   "outputs": [
    {
     "name": "stderr",
     "output_type": "stream",
     "text": [
      "100%|██████████████████████████████████████████████████████████████████████████████| 5000/5000 [13:28<00:00,  6.19it/s]\n"
     ]
    }
   ],
   "source": [
    "#getting additional info about movies with selected ids\n",
    "movies_credits_dicts = []\n",
    "for movie_id in tqdm(movies_ids):\n",
    "    url = f'https://api.themoviedb.org/3/movie/{movie_id}/credits?api_key=c3eee2ef7290f6733d92e617c223b7c0'\n",
    "    r = requests.get(url)\n",
    "    movies_credits_dict = r.json()\n",
    "    movies_credits_dicts.append(movies_credits_dict)"
   ]
  },
  {
   "cell_type": "code",
   "execution_count": 18,
   "id": "09d4ad09",
   "metadata": {
    "ExecuteTime": {
     "end_time": "2022-02-09T12:30:07.173948Z",
     "start_time": "2022-02-09T12:30:07.147173Z"
    }
   },
   "outputs": [
    {
     "data": {
      "text/plain": [
       "(5000, 3)"
      ]
     },
     "execution_count": 18,
     "metadata": {},
     "output_type": "execute_result"
    }
   ],
   "source": [
    "#creating a dataframe with obtained additional info\n",
    "movies_credits = pd.DataFrame(movies_credits_dicts)\n",
    "movies_credits.shape"
   ]
  },
  {
   "cell_type": "code",
   "execution_count": 20,
   "id": "6232fe2f",
   "metadata": {
    "ExecuteTime": {
     "end_time": "2022-02-09T12:30:28.869796Z",
     "start_time": "2022-02-09T12:30:25.073077Z"
    }
   },
   "outputs": [],
   "source": [
    "#merging the two dataframes\n",
    "movies = pd.merge(movies_details, movies_credits)"
   ]
  },
  {
   "cell_type": "code",
   "execution_count": 21,
   "id": "4fd4cfeb",
   "metadata": {
    "ExecuteTime": {
     "end_time": "2022-02-09T12:30:35.788994Z",
     "start_time": "2022-02-09T12:30:35.775365Z"
    }
   },
   "outputs": [],
   "source": [
    "#function for getting necessary values from existing columns and storing them in separate lists\n",
    "\n",
    "def get_values(column):\n",
    "    \n",
    "    def extract_values(row, column):\n",
    "        values_list = []\n",
    "        for d in movies[column][row]:\n",
    "            values_list.append(d['name'])\n",
    "        values_string = ', '.join(values_list)\n",
    "        return values_string\n",
    "\n",
    "    all_values_list = []\n",
    "    for row in range(len(movies)):\n",
    "        values = extract_values(row, column)\n",
    "        all_values_list.append(values)\n",
    "    \n",
    "    return all_values_list"
   ]
  },
  {
   "cell_type": "code",
   "execution_count": 22,
   "id": "d746faa9",
   "metadata": {
    "ExecuteTime": {
     "end_time": "2022-02-09T12:30:42.511764Z",
     "start_time": "2022-02-09T12:30:42.498110Z"
    }
   },
   "outputs": [],
   "source": [
    "#modified function for getting the names of directors or producers and storing them in separate lists\n",
    "\n",
    "def get_values_director_producer(role):\n",
    "    \n",
    "    def extract_values(row):\n",
    "        values_list = []\n",
    "        for d in movies.crew[row]:\n",
    "            if d['job'] == role: \n",
    "                values_list.append(d['name'])\n",
    "        values_string = ', '.join(values_list)\n",
    "        return values_string\n",
    "\n",
    "    all_values_list = []\n",
    "    for row in range(len(movies)):\n",
    "        values = extract_values(row)\n",
    "        all_values_list.append(values)\n",
    "    \n",
    "    return all_values_list"
   ]
  },
  {
   "cell_type": "code",
   "execution_count": 23,
   "id": "e749faa9",
   "metadata": {
    "ExecuteTime": {
     "end_time": "2022-02-09T12:30:49.588312Z",
     "start_time": "2022-02-09T12:30:49.207819Z"
    }
   },
   "outputs": [],
   "source": [
    "#adding columns with the necessary infomation to the dataframe\n",
    "movies['actors'] = get_values('cast')\n",
    "movies['genres'] = get_values('genres')\n",
    "movies['studios'] = get_values('production_companies')\n",
    "movies['countries'] = get_values('production_countries')\n",
    "movies['directors'] = get_values_director_producer('Director')\n",
    "movies['producers'] = get_values_director_producer('Producer')"
   ]
  },
  {
   "cell_type": "code",
   "execution_count": 24,
   "id": "7589bf12",
   "metadata": {
    "ExecuteTime": {
     "end_time": "2022-02-09T12:30:56.274182Z",
     "start_time": "2022-02-09T12:30:56.260976Z"
    }
   },
   "outputs": [],
   "source": [
    "#selecting only columns that are relevant for the analysis\n",
    "cols_to_keep = [\n",
    "    'budget', \n",
    "    'genres', \n",
    "    'original_language', \n",
    "    'original_title', \n",
    "    'release_date', \n",
    "    'revenue', \n",
    "    'runtime',\n",
    "    'actors',\n",
    "    'studios',\n",
    "    'countries',\n",
    "    'directors',\n",
    "    'producers'\n",
    "]\n",
    "\n",
    "#subsetting the movies dataframe\n",
    "movies = movies[cols_to_keep]\n",
    "\n",
    "#saving the dataframe as a csv file\n",
    "movies.to_csv('data/movies.csv', index=False)"
   ]
  },
  {
   "cell_type": "markdown",
   "id": "06b49640",
   "metadata": {},
   "source": [
    "In the next notebook, I will use the created dataset for data analysis, feature engineering, and predicting movie revenue."
   ]
  }
 ],
 "metadata": {
  "kernelspec": {
   "display_name": "Python 3 (ipykernel)",
   "language": "python",
   "name": "python3"
  },
  "language_info": {
   "codemirror_mode": {
    "name": "ipython",
    "version": 3
   },
   "file_extension": ".py",
   "mimetype": "text/x-python",
   "name": "python",
   "nbconvert_exporter": "python",
   "pygments_lexer": "ipython3",
   "version": "3.9.7"
  },
  "varInspector": {
   "cols": {
    "lenName": 16,
    "lenType": 16,
    "lenVar": 40
   },
   "kernels_config": {
    "python": {
     "delete_cmd_postfix": "",
     "delete_cmd_prefix": "del ",
     "library": "var_list.py",
     "varRefreshCmd": "print(var_dic_list())"
    },
    "r": {
     "delete_cmd_postfix": ") ",
     "delete_cmd_prefix": "rm(",
     "library": "var_list.r",
     "varRefreshCmd": "cat(var_dic_list()) "
    }
   },
   "types_to_exclude": [
    "module",
    "function",
    "builtin_function_or_method",
    "instance",
    "_Feature"
   ],
   "window_display": false
  }
 },
 "nbformat": 4,
 "nbformat_minor": 5
}
